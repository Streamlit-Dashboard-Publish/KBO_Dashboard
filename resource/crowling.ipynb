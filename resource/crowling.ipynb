{
 "cells": [
  {
   "cell_type": "code",
   "execution_count": 13,
   "metadata": {},
   "outputs": [
    {
     "name": "stdout",
     "output_type": "stream",
     "text": [
      "Collecting beautifulsoup4\n",
      "\u001b[33m  Cache entry deserialization failed, entry ignored\u001b[0m\n",
      "  Downloading https://files.pythonhosted.org/packages/57/f4/a69c20ee4f660081a7dedb1ac57f29be9378e04edfcb90c526b923d4bebc/beautifulsoup4-4.12.2-py3-none-any.whl (142kB)\n",
      "\u001b[K    100% |████████████████████████████████| 143kB 1.2MB/s ta 0:00:01\n",
      "\u001b[?25hCollecting soupsieve>1.2 (from beautifulsoup4)\n",
      "  Downloading https://files.pythonhosted.org/packages/49/37/673d6490efc51ec46d198c75903d99de59baffdd47aea3d071b80a9e4e89/soupsieve-2.4.1-py3-none-any.whl\n",
      "Installing collected packages: soupsieve, beautifulsoup4\n",
      "Successfully installed beautifulsoup4-4.12.2 soupsieve-2.4.1\n",
      "\u001b[33mYou are using pip version 8.1.1, however version 23.1.2 is available.\n",
      "You should consider upgrading via the 'pip install --upgrade pip' command.\u001b[0m\n",
      "Note: you may need to restart the kernel to use updated packages.\n"
     ]
    }
   ],
   "source": [
    "pip install beautifulsoup4"
   ]
  },
  {
   "cell_type": "code",
   "execution_count": 103,
   "metadata": {},
   "outputs": [
    {
     "name": "stdout",
     "output_type": "stream",
     "text": [
      "    Player Name                                              Image\n",
      "0           강인권  https://ncdinos-homepage.s3.ap-northeast-2.ama...\n",
      "1           공필성  https://ncdinos-homepage.s3.ap-northeast-2.ama...\n",
      "2           전형도  https://ncdinos-homepage.s3.ap-northeast-2.ama...\n",
      "3           진종길  https://ncdinos-homepage.s3.ap-northeast-2.ama...\n",
      "4           전민수  https://ncdinos-homepage.s3.ap-northeast-2.ama...\n",
      "..          ...                                                ...\n",
      "114         백경덕  https://ncdinos-homepage.s3.ap-northeast-2.ama...\n",
      "115         김성중  https://ncdinos-homepage.s3.ap-northeast-2.ama...\n",
      "116         여은수  https://ncdinos-homepage.s3.ap-northeast-2.ama...\n",
      "117         김봉현  https://ncdinos-homepage.s3.ap-northeast-2.ama...\n",
      "118         전일우  https://ncdinos-homepage.s3.ap-northeast-2.ama...\n",
      "\n",
      "[119 rows x 2 columns]\n"
     ]
    }
   ],
   "source": [
    "import requests\n",
    "from bs4 import BeautifulSoup\n",
    "import pandas as pd\n",
    "\n",
    "baseUrl = 'https://www.ncdinos.com/player/all/list.do'\n",
    "html = requests.get(baseUrl).text\n",
    "soup = BeautifulSoup(html, 'html.parser')\n",
    "\n",
    "player_names = soup.find_all(class_ = 'txt-primary')\n",
    "imgs = soup.select('a.img > img')\n",
    "\n",
    "df = pd.DataFrame(columns=['Player Name', 'Image'])\n",
    "\n",
    "for player_name, img in zip(player_names, imgs):\n",
    "    player_name_str = player_name.string\n",
    "    img_src = img['src']\n",
    "    \n",
    "    df = df.append({'Player Name': player_name_str, 'Image': img_src}, ignore_index=True)\n",
    "\n",
    "print(df)"
   ]
  },
  {
   "cell_type": "code",
   "execution_count": 1,
   "metadata": {},
   "outputs": [
    {
     "name": "stdout",
     "output_type": "stream",
     "text": [
      "https://search.pstatic.net/common?type=b&size=216&expire=1&refresh=true&quality=100&direct=true&src=http%3A%2F%2Fsstatic.naver.net%2Fpeople%2F174%2F202304121051522511.png\n"
     ]
    }
   ],
   "source": [
    "import requests\n",
    "from bs4 import BeautifulSoup\n",
    "import pandas as pd\n",
    "\n",
    "player_name = input(\"선수 이름을 입력하세요.\")\n",
    "\n",
    "baseUrl = 'https://search.naver.com/search.naver?where=nexearch&sm=tab_etc&pkid=1&os=183530&qvt=0&query='\n",
    "url = baseUrl+player_name\n",
    "html = requests.get(url).text\n",
    "soup = BeautifulSoup(html, 'html.parser')\n",
    "\n",
    "# player_names = soup.find_all(class_ = 'txt-primary')\n",
    "img = soup.select_one('a.thumb > img')['src']\n",
    "\n",
    "print(img)"
   ]
  },
  {
   "cell_type": "code",
   "execution_count": 9,
   "metadata": {},
   "outputs": [
    {
     "name": "stdout",
     "output_type": "stream",
     "text": [
      "https://search.pstatic.net/common?type=b&size=216&expire=1&refresh=true&quality=100&direct=true&src=http%3A%2F%2Fsstatic.naver.net%2Fpeople%2F62%2F202304111409245901.png\n"
     ]
    }
   ],
   "source": [
    "# 모든 선수\n",
    "import requests\n",
    "from bs4 import BeautifulSoup\n",
    "import pandas as pd\n",
    "\n",
    "player_name = input(\"선수 이름을 입력하세요.\")\n",
    "\n",
    "baseUrl = 'https://search.naver.com/search.naver?where=nexearch&sm=top_hty&fbm=0&ie=utf8&query='\n",
    "\n",
    "url = baseUrl+'야구선수'+player_name\n",
    "html = requests.get(url).text\n",
    "soup = BeautifulSoup(html, 'html.parser')\n",
    "\n",
    "img = soup.select_one('.thumb > img')['src']\n",
    "\n",
    "if img=='https://search.pstatic.net/sunny?src=https%3A%2F%2Fwww.ncdinos.com%2Fassets%2Fimages%2Ffavicon.ico&type=f30_30_png_expire24':\n",
    "    url = baseUrl+player_name\n",
    "    html = requests.get(url).text\n",
    "    soup = BeautifulSoup(html, 'html.parser')\n",
    "\n",
    "    img = soup.select_one('a.thumb > img')['src']\n",
    "    print(img)\n",
    "else:\n",
    "    print(img)"
   ]
  },
  {
   "cell_type": "code",
   "execution_count": 6,
   "metadata": {},
   "outputs": [
    {
     "data": {
      "text/plain": [
       "array(['강구성', '강민국', '강진성', '권희동', '김성욱', '김종찬', '김종호', '김철호', '김태진',\n",
       "       '김형준', '나성범', '노진혁', '도태훈', '마낙길', '모창민', '박광열', '박민우', '박석민',\n",
       "       '손시헌', '스크럭스', '오정복', '용덕한', '윤병호', '윤수강', '이명환', '이상호', '이승재',\n",
       "       '이우성', '이원재', '이재율', '이종욱', '이태원', '이현곤', '조평호', '정범모', '조영훈',\n",
       "       '지석훈', '최준석', '테임즈', '황윤호'], dtype=object)"
      ]
     },
     "execution_count": 6,
     "metadata": {},
     "output_type": "execute_result"
    }
   ],
   "source": [
    "df = pd.read_csv('62540_KBO_prediction_data/Regular_Season_Batter.csv')\n",
    "\n",
    "df[df['team']=='NC']['batter_name'].unique()"
   ]
  },
  {
   "cell_type": "code",
   "execution_count": 11,
   "metadata": {},
   "outputs": [],
   "source": [
    "# nc 선수\n",
    "import requests\n",
    "from bs4 import BeautifulSoup\n",
    "import pandas as pd\n",
    "\n",
    "player_names = list(df[df['team']=='NC']['batter_name'].unique())\n",
    "player_list=[]\n",
    "\n",
    "df = pd.DataFrame(columns=['Player Name', 'Image'])\n",
    "\n",
    "for player_name in player_names:\n",
    "    baseUrl = 'https://search.naver.com/search.naver?where=nexearch&sm=top_hty&fbm=0&ie=utf8&query='\n",
    "    url = baseUrl+'야구선수'+player_name\n",
    "    html = requests.get(url).text\n",
    "    soup = BeautifulSoup(html, 'html.parser')\n",
    "\n",
    "    img = soup.select_one('.thumb > img')['src']\n",
    "\n",
    "    if img=='https://search.pstatic.net/sunny?src=https%3A%2F%2Fwww.ncdinos.com%2Fassets%2Fimages%2Ffavicon.ico&type=f30_30_png_expire24':\n",
    "        url = baseUrl+player_name\n",
    "        html = requests.get(url).text\n",
    "        soup = BeautifulSoup(html, 'html.parser')\n",
    "\n",
    "        img = soup.select_one('a.thumb > img')['src']\n",
    "\n",
    "    df = df.append({'Player Name': player_name, 'Image': img}, ignore_index=True)"
   ]
  },
  {
   "cell_type": "code",
   "execution_count": 12,
   "metadata": {},
   "outputs": [
    {
     "name": "stdout",
     "output_type": "stream",
     "text": [
      "   Player Name                                              Image\n",
      "0          강구성  https://search.pstatic.net/common?type=b&size=...\n",
      "1          강민국  https://search.pstatic.net/common?type=b&size=...\n",
      "2          강진성  https://search.pstatic.net/common?type=b&size=...\n",
      "3          권희동  https://search.pstatic.net/common?type=b&size=...\n",
      "4          김성욱  https://search.pstatic.net/common?type=b&size=...\n",
      "5          김종찬  https://search.pstatic.net/common?type=b&size=...\n",
      "6          김종호  https://search.pstatic.net/common?type=b&size=...\n",
      "7          김철호  https://search.pstatic.net/common?type=b&size=...\n",
      "8          김태진  https://search.pstatic.net/common?type=b&size=...\n",
      "9          김형준  https://search.pstatic.net/common?type=b&size=...\n",
      "10         나성범  https://search.pstatic.net/common?type=b&size=...\n",
      "11         노진혁  https://search.pstatic.net/common?type=b&size=...\n",
      "12         도태훈  https://search.pstatic.net/common?type=b&size=...\n",
      "13         마낙길  https://search.pstatic.net/common?type=b&size=...\n",
      "14         모창민  https://search.pstatic.net/common?type=b&size=...\n",
      "15         박광열  https://search.pstatic.net/common?type=b&size=...\n",
      "16         박민우  https://search.pstatic.net/common?type=b&size=...\n",
      "17         박석민  https://search.pstatic.net/common?type=b&size=...\n",
      "18         손시헌  https://search.pstatic.net/common?type=b&size=...\n",
      "19        스크럭스  https://search.pstatic.net/sunny?src=https%3A%...\n",
      "20         오정복  https://search.pstatic.net/common?type=b&size=...\n",
      "21         용덕한  https://search.pstatic.net/common?type=b&size=...\n",
      "22         윤병호  https://search.pstatic.net/common?type=b&size=...\n",
      "23         윤수강  https://search.pstatic.net/common?type=b&size=...\n",
      "24         이명환  https://search.pstatic.net/common?type=b&size=...\n",
      "25         이상호  https://search.pstatic.net/common?type=b&size=...\n",
      "26         이승재  https://search.pstatic.net/common?type=b&size=...\n",
      "27         이우성  https://search.pstatic.net/common?type=b&size=...\n",
      "28         이원재  https://search.pstatic.net/common?type=b&size=...\n",
      "29         이재율  https://search.pstatic.net/common?type=b&size=...\n",
      "30         이종욱  https://search.pstatic.net/common?type=b&size=...\n",
      "31         이태원  https://search.pstatic.net/common?type=b&size=...\n",
      "32         이현곤  https://search.pstatic.net/common?type=b&size=...\n",
      "33         조평호  https://search.pstatic.net/common?type=b&size=...\n",
      "34         정범모  https://search.pstatic.net/common?type=b&size=...\n",
      "35         조영훈  https://search.pstatic.net/common?type=b&size=...\n",
      "36         지석훈  https://search.pstatic.net/common?type=b&size=...\n",
      "37         최준석  https://search.pstatic.net/common?type=b&size=...\n",
      "38         테임즈  https://search.pstatic.net/sunny?src=https%3A%...\n",
      "39         황윤호  https://search.pstatic.net/common?type=b&size=...\n"
     ]
    }
   ],
   "source": [
    "print(df)"
   ]
  }
 ],
 "metadata": {
  "kernelspec": {
   "display_name": "Python 3",
   "language": "python",
   "name": "python3"
  },
  "language_info": {
   "codemirror_mode": {
    "name": "ipython",
    "version": 3
   },
   "file_extension": ".py",
   "mimetype": "text/x-python",
   "name": "python",
   "nbconvert_exporter": "python",
   "pygments_lexer": "ipython3",
   "version": "3.9.5"
  },
  "orig_nbformat": 4
 },
 "nbformat": 4,
 "nbformat_minor": 2
}
