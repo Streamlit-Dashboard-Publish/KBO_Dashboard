{
 "cells": [
  {
   "cell_type": "code",
   "execution_count": 13,
   "metadata": {},
   "outputs": [
    {
     "name": "stdout",
     "output_type": "stream",
     "text": [
      "Collecting beautifulsoup4\n",
      "\u001b[33m  Cache entry deserialization failed, entry ignored\u001b[0m\n",
      "  Downloading https://files.pythonhosted.org/packages/57/f4/a69c20ee4f660081a7dedb1ac57f29be9378e04edfcb90c526b923d4bebc/beautifulsoup4-4.12.2-py3-none-any.whl (142kB)\n",
      "\u001b[K    100% |████████████████████████████████| 143kB 1.2MB/s ta 0:00:01\n",
      "\u001b[?25hCollecting soupsieve>1.2 (from beautifulsoup4)\n",
      "  Downloading https://files.pythonhosted.org/packages/49/37/673d6490efc51ec46d198c75903d99de59baffdd47aea3d071b80a9e4e89/soupsieve-2.4.1-py3-none-any.whl\n",
      "Installing collected packages: soupsieve, beautifulsoup4\n",
      "Successfully installed beautifulsoup4-4.12.2 soupsieve-2.4.1\n",
      "\u001b[33mYou are using pip version 8.1.1, however version 23.1.2 is available.\n",
      "You should consider upgrading via the 'pip install --upgrade pip' command.\u001b[0m\n",
      "Note: you may need to restart the kernel to use updated packages.\n"
     ]
    }
   ],
   "source": [
    "pip install beautifulsoup4"
   ]
  },
  {
   "cell_type": "code",
   "execution_count": 103,
   "metadata": {},
   "outputs": [
    {
     "name": "stdout",
     "output_type": "stream",
     "text": [
      "    Player Name                                              Image\n",
      "0           강인권  https://ncdinos-homepage.s3.ap-northeast-2.ama...\n",
      "1           공필성  https://ncdinos-homepage.s3.ap-northeast-2.ama...\n",
      "2           전형도  https://ncdinos-homepage.s3.ap-northeast-2.ama...\n",
      "3           진종길  https://ncdinos-homepage.s3.ap-northeast-2.ama...\n",
      "4           전민수  https://ncdinos-homepage.s3.ap-northeast-2.ama...\n",
      "..          ...                                                ...\n",
      "114         백경덕  https://ncdinos-homepage.s3.ap-northeast-2.ama...\n",
      "115         김성중  https://ncdinos-homepage.s3.ap-northeast-2.ama...\n",
      "116         여은수  https://ncdinos-homepage.s3.ap-northeast-2.ama...\n",
      "117         김봉현  https://ncdinos-homepage.s3.ap-northeast-2.ama...\n",
      "118         전일우  https://ncdinos-homepage.s3.ap-northeast-2.ama...\n",
      "\n",
      "[119 rows x 2 columns]\n"
     ]
    }
   ],
   "source": [
    "import requests\n",
    "from bs4 import BeautifulSoup\n",
    "import pandas as pd\n",
    "\n",
    " \n",
    "baseUrl = 'https://www.ncdinos.com/player/all/list.do'\n",
    "html = requests.get(baseUrl).text\n",
    "soup = BeautifulSoup(html, 'html.parser')\n",
    "\n",
    "player_names = soup.find_all(class_ = 'txt-primary')\n",
    "imgs = soup.select('a.img > img')\n",
    "\n",
    "df = pd.DataFrame(columns=['Player Name', 'Image'])\n",
    "\n",
    "for player_name, img in zip(player_names, imgs):\n",
    "    player_name_str = player_name.string\n",
    "    img_src = img['src']\n",
    "    \n",
    "    df = df.append({'Player Name': player_name_str, 'Image': img_src}, ignore_index=True)\n",
    "\n",
    "print(df)"
   ]
  },
  {
   "cell_type": "code",
   "execution_count": null,
   "metadata": {},
   "outputs": [],
   "source": [
    "import requests\n",
    "from bs4 import BeautifulSoup\n",
    "\n",
    "url = 'https://kin.naver.com/search/list.nhn?query=%ED%8C%8C%EC%9D%B4%EC%8D%AC'\n",
    "\n",
    "response = requests.get(url)\n",
    "\n",
    "if response.status_code == 200:\n",
    "    html = response.text\n",
    "    soup = BeautifulSoup(html, 'html.parser')\n",
    "    title = soup.select_one('#s_content > div.section > ul > li:nth-child(1) > dl > dt > a')\n",
    "    print(title)\n",
    "else : \n",
    "    print(response.status_code)"
   ]
  }
 ],
 "metadata": {
  "kernelspec": {
   "display_name": "Python 3",
   "language": "python",
   "name": "python3"
  },
  "language_info": {
   "codemirror_mode": {
    "name": "ipython",
    "version": 3
   },
   "file_extension": ".py",
   "mimetype": "text/x-python",
   "name": "python",
   "nbconvert_exporter": "python",
   "pygments_lexer": "ipython3",
   "version": "3.9.5"
  },
  "orig_nbformat": 4
 },
 "nbformat": 4,
 "nbformat_minor": 2
}
